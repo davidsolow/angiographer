{
 "cells": [
  {
   "cell_type": "code",
   "execution_count": null,
   "metadata": {},
   "outputs": [],
   "source": [
    "# Import libraries\n",
    "import numpy as np\n",
    "import pandas as pd\n",
    "from matplotlib import pyplot as plt\n",
    "import tensorflow as tf\n",
    "from tensorflow.keras import layers, models\n",
    "from tensorflow.keras.metrics import MeanIoU"
   ]
  },
  {
   "cell_type": "code",
   "execution_count": null,
   "metadata": {},
   "outputs": [],
   "source": [
    "# Load Stenosis annotation data\n",
    "stenosis_train = pd.read_parquet(\"../datasets/stenosis_train.parquet\")\n",
    "stenosis_val = pd.read_parquet(\"../datasets/stenosis_val.parquet\")\n",
    "stenosis_test = pd.read_parquet(\"../datasets/stenosis_test.parquet\")\n",
    "\n",
    "# Preview Stenosis annotation data\n",
    "stenosis_train.head()"
   ]
  },
  {
   "cell_type": "code",
   "execution_count": null,
   "metadata": {},
   "outputs": [],
   "source": [
    "# Helper function to load tensors from .tf files\n",
    "def load_tensor_from_file(file_path):\n",
    "    serialized_tensor = tf.io.read_file(file_path)\n",
    "    tensor = tf.io.parse_tensor(serialized_tensor, out_type=tf.float16)\n",
    "    return tensor"
   ]
  },
  {
   "cell_type": "code",
   "execution_count": null,
   "metadata": {},
   "outputs": [],
   "source": [
    "# Load tensors\n",
    "X_train = load_tensor_from_file(\"../datasets/X_train_stenosis.tf\")\n",
    "y_train = load_tensor_from_file(\"../datasets/y_train_stenosis.tf\")\n",
    "X_val = load_tensor_from_file(\"../datasets/X_val_stenosis.tf\")\n",
    "y_val = load_tensor_from_file(\"../datasets/y_val_stenosis.tf\")\n",
    "X_test = load_tensor_from_file(\"../datasets/X_test_stenosis.tf\")\n",
    "y_test = load_tensor_from_file(\"../datasets/y_test_stenosis.tf\")"
   ]
  },
  {
   "cell_type": "code",
   "execution_count": null,
   "metadata": {},
   "outputs": [],
   "source": [
    "plt.figure(figsize=(12, 4))\n",
    "plt.subplot(1, 3, 1)\n",
    "plt.imshow(tf.squeeze(X_train[0]), cmap='gray')\n",
    "plt.xticks([])\n",
    "plt.yticks([])\n",
    "plt.title('Train Image')\n",
    "plt.subplot(1, 3, 2)\n",
    "plt.imshow(tf.squeeze(X_train[1]), cmap='gray')\n",
    "plt.xticks([])\n",
    "plt.yticks([])\n",
    "plt.title('Train Image Enhanced')"
   ]
  },
  {
   "cell_type": "code",
   "execution_count": null,
   "metadata": {},
   "outputs": [],
   "source": [
    "#Build dice loss function\n",
    "def dice_loss(y_true, y_pred):\n",
    "    smooth = 1e-6\n",
    "    y_true_f = tf.reshape(y_true, [-1])\n",
    "    y_pred_f = tf.reshape(y_pred, [-1])\n",
    "    intersection = tf.reduce_sum(y_true_f * y_pred_f)\n",
    "    return 1 - (2. * intersection + smooth) / (tf.reduce_sum(y_true_f) + tf.reduce_sum(y_pred_f) + smooth)\n",
    "\n",
    "def dice_bce_loss(y_true, y_pred):\n",
    "    bce = tf.keras.losses.binary_crossentropy(y_true, y_pred)\n",
    "    dice = dice_loss(y_true, y_pred)\n",
    "    return bce + dice"
   ]
  },
  {
   "cell_type": "code",
   "execution_count": null,
   "metadata": {},
   "outputs": [],
   "source": [
    "# Build Model Architecture\n",
    "def residual_conv_unit(inputs, filters=256):\n",
    "    net = layers.Activation('relu')(inputs)\n",
    "    net = layers.Conv2D(filters, (3, 3), padding='same')(net)\n",
    "    net = layers.Activation('relu')(net)\n",
    "    net = layers.Conv2D(filters, (3, 3), padding='same')(net)\n",
    "    return net + inputs\n",
    "\n",
    "def multi_resolution_fusion(high_inputs, low_inputs, filters=256):\n",
    "    \"\"\"Fuse features from different resolutions\"\"\"\n",
    "    # Upsample low resolution input to high resolution input size\n",
    "    size = (high_inputs.shape[1] // low_inputs.shape[1], high_inputs.shape[2] // low_inputs.shape[2])\n",
    "    low_upsampled = layers.UpSampling2D(size=size)(low_inputs)\n",
    "    low_conv = layers.Conv2D(filters, (3, 3), padding='same')(low_upsampled)\n",
    "    # Merge with high resolution input\n",
    "    return layers.Concatenate()([high_inputs, low_conv])\n",
    "\n",
    "def chained_residual_pooling(inputs, filters=256):\n",
    "    net = layers.Activation('relu')(inputs)\n",
    "    net_out = None\n",
    "    for _ in range(2):\n",
    "        net = layers.MaxPooling2D(pool_size=(5, 5), strides=1, padding='same')(net)\n",
    "        net = layers.Conv2D(filters, (3, 3), padding='same')(net)\n",
    "        if net_out is None:\n",
    "            net_out = net\n",
    "        else:\n",
    "            net_out += net\n",
    "    return net_out\n",
    "\n",
    "def refine_block(high_inputs, low_inputs):\n",
    "    rcu_high = residual_conv_unit(high_inputs)\n",
    "    rcu_low = residual_conv_unit(low_inputs)\n",
    "    mrf = multi_resolution_fusion(rcu_high, rcu_low)\n",
    "    crp = chained_residual_pooling(mrf)\n",
    "    out = residual_conv_unit(crp)\n",
    "    return out\n",
    "\n",
    "def refinenet(input_shape=(256, 256, 1), num_classes=1):\n",
    "    inputs = layers.Input(shape=input_shape)\n",
    "    \n",
    "    # Simple encoder\n",
    "    net = layers.Conv2D(64, (3, 3), activation='relu', padding='same', strides=2)(inputs)\n",
    "    net = layers.Conv2D(128, (3, 3), activation='relu', padding='same', strides=2)(net)\n",
    "    net = layers.Conv2D(256, (3, 3), activation='relu', padding='same', strides=2)(net)\n",
    "    \n",
    "    # Refine blocks\n",
    "    refine1 = refine_block(net, net)\n",
    "\n",
    "    # Decoder to recover original image size\n",
    "    net = layers.UpSampling2D(size=(8, 8))(refine1)\n",
    "    outputs = layers.Conv2D(num_classes, (1, 1), activation='sigmoid')(net)\n",
    "    \n",
    "    model = models.Model(inputs=inputs, outputs=outputs)\n",
    "    return model\n",
    "\n",
    "#Build Refinenet model\n",
    "tf.keras.backend.clear_session()\n",
    "model = refinenet()\n",
    "adam_optimizer = tf.keras.optimizers.Adam(learning_rate=0.001)\n",
    "model.compile(optimizer=adam_optimizer, loss=dice_bce_loss, metrics=[MeanIoU(num_classes=2)])\n",
    "\n",
    "# Model summary\n",
    "model.summary()"
   ]
  },
  {
   "cell_type": "code",
   "execution_count": null,
   "metadata": {},
   "outputs": [],
   "source": [
    "history = model.fit(\n",
    "    x=X_train,\n",
    "    y=tf.cast(y_train == 255, tf.float16),\n",
    "    batch_size=16,\n",
    "    epochs=10,\n",
    "    validation_data=(X_val, tf.cast(y_val == 255, tf.float16))\n",
    ")"
   ]
  },
  {
   "cell_type": "code",
   "execution_count": null,
   "metadata": {},
   "outputs": [],
   "source": [
    "\n",
    "clean_results = pd.DataFrame(history.history).reset_index()\n",
    "clean_results = round(clean_results, 4)\n",
    "clean_results['index'] = (clean_results['index'] + 1)\n",
    "clean_results.columns = ['Epoch', 'Loss', 'Mean IoU', 'Validaiton Loss', 'Validation Mean IoU']\n",
    "plt.figure(figsize=(8,4))\n",
    "plt.axis('off')\n",
    "plt.table(cellText=clean_results.values, colLabels=clean_results.columns, cellLoc='center', loc='center', bbox=[0, 0, 1, 1])"
   ]
  },
  {
   "cell_type": "code",
   "execution_count": null,
   "metadata": {},
   "outputs": [],
   "source": [
    "y_pred = model.predict(X_test)"
   ]
  },
  {
   "cell_type": "code",
   "execution_count": null,
   "metadata": {},
   "outputs": [],
   "source": [
    "predicted_masks = (y_pred > 0.5).astype(np.float16)\n",
    "\n",
    "iou_metric = MeanIoU(num_classes=2)\n",
    "\n",
    "# Update states with the ground truth and predictions\n",
    "iou_metric.update_state(tf.cast(y_test == 255, tf.float16), predicted_masks)\n",
    "\n",
    "# Get the IoU score\n",
    "test_iou = iou_metric.result().numpy()\n",
    "print(f\"Test IoU: {test_iou}\")"
   ]
  },
  {
   "cell_type": "code",
   "execution_count": null,
   "metadata": {},
   "outputs": [],
   "source": [
    "# Example: Visualize the first test image, its true mask, and the predicted mask\n",
    "plt.figure(figsize=(12, 4))\n",
    "plt.subplot(1, 3, 1)\n",
    "plt.imshow(tf.squeeze(X_test[0]), cmap='gray')\n",
    "plt.xticks([])\n",
    "plt.yticks([])\n",
    "plt.title('Test Image')\n",
    "plt.subplot(1, 3, 2)\n",
    "plt.imshow(tf.squeeze(y_test[0]), cmap='gray')\n",
    "plt.xticks([])\n",
    "plt.yticks([])\n",
    "plt.title('True Mask')\n",
    "plt.subplot(1, 3, 3)\n",
    "plt.imshow(tf.squeeze(predicted_masks[0]), cmap='gray')\n",
    "plt.xticks([])\n",
    "plt.yticks([])\n",
    "plt.title('Predicted Mask')\n",
    "plt.show()\n"
   ]
  },
  {
   "cell_type": "code",
   "execution_count": null,
   "metadata": {},
   "outputs": [],
   "source": []
  }
 ],
 "metadata": {
  "kernelspec": {
   "display_name": "angiographer",
   "language": "python",
   "name": "python3"
  },
  "language_info": {
   "codemirror_mode": {
    "name": "ipython",
    "version": 3
   },
   "file_extension": ".py",
   "mimetype": "text/x-python",
   "name": "python",
   "nbconvert_exporter": "python",
   "pygments_lexer": "ipython3",
   "version": "3.11.1"
  }
 },
 "nbformat": 4,
 "nbformat_minor": 2
}
