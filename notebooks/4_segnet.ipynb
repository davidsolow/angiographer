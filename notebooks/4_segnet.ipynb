{
 "cells": [
  {
   "cell_type": "code",
   "execution_count": null,
   "metadata": {},
   "outputs": [],
   "source": [
    "# Import libraries\n",
    "import numpy as np\n",
    "import pandas as pd\n",
    "from matplotlib import pyplot as plt\n",
    "import tensorflow as tf\n",
    "from tensorflow.keras import layers, models\n",
    "from tensorflow.keras.metrics import MeanIoU"
   ]
  },
  {
   "cell_type": "code",
   "execution_count": null,
   "metadata": {},
   "outputs": [],
   "source": [
    "# Load Stenosis annotation data\n",
    "stenosis_train = pd.read_parquet(\"../datasets/stenosis_train.parquet\")\n",
    "stenosis_val = pd.read_parquet(\"../datasets/stenosis_val.parquet\")\n",
    "stenosis_test = pd.read_parquet(\"../datasets/stenosis_test.parquet\")\n",
    "\n",
    "# Preview Stenosis annotation data\n",
    "stenosis_train.head()"
   ]
  },
  {
   "cell_type": "code",
   "execution_count": null,
   "metadata": {},
   "outputs": [],
   "source": [
    "# Helper function to load tensors from .tf files\n",
    "def load_tensor_from_file(file_path):\n",
    "    serialized_tensor = tf.io.read_file(file_path)\n",
    "    tensor = tf.io.parse_tensor(serialized_tensor, out_type=tf.float16)\n",
    "    return tensor"
   ]
  },
  {
   "cell_type": "code",
   "execution_count": null,
   "metadata": {},
   "outputs": [],
   "source": [
    "# Load tensors\n",
    "X_train = load_tensor_from_file(\"../datasets/X_train_stenosis.tf\")\n",
    "y_train = load_tensor_from_file(\"../datasets/y_train_stenosis.tf\")\n",
    "X_val = load_tensor_from_file(\"../datasets/X_val_stenosis.tf\")\n",
    "y_val = load_tensor_from_file(\"../datasets/y_val_stenosis.tf\")\n",
    "X_test = load_tensor_from_file(\"../datasets/X_test_stenosis.tf\")\n",
    "y_test = load_tensor_from_file(\"../datasets/y_test_stenosis.tf\")"
   ]
  },
  {
   "cell_type": "code",
   "execution_count": null,
   "metadata": {},
   "outputs": [],
   "source": [
    "plt.figure(figsize=(12, 4))\n",
    "plt.subplot(1, 3, 1)\n",
    "plt.imshow(tf.squeeze(X_train[0]), cmap='gray')\n",
    "plt.xticks([])\n",
    "plt.yticks([])\n",
    "plt.title('Train Image')\n",
    "plt.subplot(1, 3, 2)\n",
    "plt.imshow(tf.squeeze(X_train[1]), cmap='gray')\n",
    "plt.xticks([])\n",
    "plt.yticks([])\n",
    "plt.title('Train Image Enhanced')"
   ]
  },
  {
   "cell_type": "code",
   "execution_count": null,
   "metadata": {},
   "outputs": [],
   "source": [
    "#Build dice loss function\n",
    "def dice_loss(y_true, y_pred):\n",
    "    smooth = 1e-6\n",
    "    y_true_f = tf.reshape(y_true, [-1])\n",
    "    y_pred_f = tf.reshape(y_pred, [-1])\n",
    "    intersection = tf.reduce_sum(y_true_f * y_pred_f)\n",
    "    return 1 - (2. * intersection + smooth) / (tf.reduce_sum(y_true_f) + tf.reduce_sum(y_pred_f) + smooth)\n",
    "\n",
    "def dice_bce_loss(y_true, y_pred):\n",
    "    bce = tf.keras.losses.binary_crossentropy(y_true, y_pred)\n",
    "    dice = dice_loss(y_true, y_pred)\n",
    "    return bce + dice"
   ]
  },
  {
   "cell_type": "code",
   "execution_count": null,
   "metadata": {},
   "outputs": [],
   "source": [
    "# Build Model Architecture\n",
    "def segnet_model(input_size=(256, 256, 1)):\n",
    "    inputs = layers.Input(input_size)\n",
    "    # Encoder\n",
    "    c1 = layers.Conv2D(16, (3, 3), activation='relu', padding='same')(inputs)\n",
    "    p1 = layers.MaxPooling2D((2, 2), padding='same')(c1)\n",
    "    # Decoder\n",
    "    u1 = layers.UpSampling2D((2, 2))(p1)\n",
    "    c2 = layers.Conv2D(1, (3, 3), activation='sigmoid', padding='same')(u1)\n",
    "\n",
    "    model = models.Model(inputs=[inputs], outputs=[c2])\n",
    "    return model\n",
    "\n",
    "#Build Segnet model\n",
    "tf.keras.backend.clear_session()\n",
    "model = segnet_model()\n",
    "adam_optimizer = tf.keras.optimizers.Adam(learning_rate=0.001)\n",
    "model.compile(optimizer=adam_optimizer, loss=dice_bce_loss, metrics=[MeanIoU(num_classes=2)])\n",
    "\n",
    "# Model summary\n",
    "model.summary()"
   ]
  },
  {
   "cell_type": "code",
   "execution_count": null,
   "metadata": {},
   "outputs": [],
   "source": [
    "history = model.fit(\n",
    "    x=X_train,\n",
    "    y=tf.cast(y_train == 255, tf.float16),\n",
    "    batch_size=16,\n",
    "    epochs=10,\n",
    "    validation_data=(X_val, tf.cast(y_val == 255, tf.float16))\n",
    ")"
   ]
  },
  {
   "cell_type": "code",
   "execution_count": null,
   "metadata": {},
   "outputs": [],
   "source": [
    "clean_results = pd.DataFrame(history.history).reset_index()\n",
    "clean_results = round(clean_results, 4)\n",
    "clean_results['index'] = (clean_results['index'] + 1)\n",
    "clean_results.columns = ['Epoch', 'Loss', 'Mean IoU', 'Validaiton Loss', 'Validation Mean IoU']\n",
    "plt.figure(figsize=(8,4))\n",
    "plt.axis('off')\n",
    "plt.table(cellText=clean_results.values, colLabels=clean_results.columns, cellLoc='center', loc='center', bbox=[0, 0, 1, 1])"
   ]
  },
  {
   "cell_type": "code",
   "execution_count": null,
   "metadata": {},
   "outputs": [],
   "source": [
    "y_pred = model.predict(X_test)"
   ]
  },
  {
   "cell_type": "code",
   "execution_count": null,
   "metadata": {},
   "outputs": [],
   "source": [
    "predicted_masks = (y_pred > 0.5).astype(np.float16)\n",
    "\n",
    "iou_metric = MeanIoU(num_classes=2)\n",
    "\n",
    "# Update states with the ground truth and predictions\n",
    "iou_metric.update_state(tf.cast(y_test == 255, tf.float16), predicted_masks)\n",
    "\n",
    "# Get the IoU score\n",
    "test_iou = iou_metric.result().numpy()\n",
    "print(f\"Test IoU: {test_iou}\")"
   ]
  },
  {
   "cell_type": "code",
   "execution_count": null,
   "metadata": {},
   "outputs": [],
   "source": [
    "# Example: Visualize the first test image, its true mask, and the predicted mask\n",
    "plt.figure(figsize=(12, 4))\n",
    "plt.subplot(1, 3, 1)\n",
    "plt.imshow(tf.squeeze(X_test[0]), cmap='gray')\n",
    "plt.xticks([])\n",
    "plt.yticks([])\n",
    "plt.title('Test Image')\n",
    "plt.subplot(1, 3, 2)\n",
    "plt.imshow(tf.squeeze(y_test[0]), cmap='gray')\n",
    "plt.xticks([])\n",
    "plt.yticks([])\n",
    "plt.title('True Mask')\n",
    "plt.subplot(1, 3, 3)\n",
    "plt.imshow(tf.squeeze(predicted_masks[0]), cmap='gray')\n",
    "plt.xticks([])\n",
    "plt.yticks([])\n",
    "plt.title('Predicted Mask')\n",
    "plt.show()\n"
   ]
  },
  {
   "cell_type": "code",
   "execution_count": null,
   "metadata": {},
   "outputs": [],
   "source": []
  }
 ],
 "metadata": {
  "kernelspec": {
   "display_name": "angiographer",
   "language": "python",
   "name": "python3"
  },
  "language_info": {
   "codemirror_mode": {
    "name": "ipython",
    "version": 3
   },
   "file_extension": ".py",
   "mimetype": "text/x-python",
   "name": "python",
   "nbconvert_exporter": "python",
   "pygments_lexer": "ipython3",
   "version": "3.11.1"
  }
 },
 "nbformat": 4,
 "nbformat_minor": 2
}
