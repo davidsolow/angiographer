{
 "cells": [
  {
   "cell_type": "code",
   "execution_count": null,
   "metadata": {},
   "outputs": [],
   "source": [
    "# Import libraries\n",
    "import numpy as np\n",
    "import pandas as pd\n",
    "from matplotlib import pyplot as plt\n",
    "import tensorflow as tf\n",
    "from tensorflow.keras import layers, models\n",
    "from tensorflow.keras.metrics import MeanIoU"
   ]
  },
  {
   "cell_type": "code",
   "execution_count": null,
   "metadata": {},
   "outputs": [],
   "source": [
    "# Load Stenosis annotation data\n",
    "stenosis_train = pd.read_parquet(\"../datasets/stenosis_train.parquet\")\n",
    "stenosis_val = pd.read_parquet(\"../datasets/stenosis_val.parquet\")\n",
    "stenosis_test = pd.read_parquet(\"../datasets/stenosis_test.parquet\")\n",
    "\n",
    "# Preview Stenosis annotation data\n",
    "stenosis_train.head()"
   ]
  },
  {
   "cell_type": "code",
   "execution_count": null,
   "metadata": {},
   "outputs": [],
   "source": [
    "# Helper function to load tensors from .tf files\n",
    "def load_tensor_from_file(file_path):\n",
    "    serialized_tensor = tf.io.read_file(file_path)\n",
    "    tensor = tf.io.parse_tensor(serialized_tensor, out_type=tf.float16)\n",
    "    return tensor"
   ]
  },
  {
   "cell_type": "code",
   "execution_count": null,
   "metadata": {},
   "outputs": [],
   "source": [
    "# Load tensors\n",
    "X_train = load_tensor_from_file(\"../datasets/X_train_stenosis.tf\")\n",
    "y_train = load_tensor_from_file(\"../datasets/y_train_stenosis.tf\")\n",
    "X_val = load_tensor_from_file(\"../datasets/X_val_stenosis.tf\")\n",
    "y_val = load_tensor_from_file(\"../datasets/y_val_stenosis.tf\")\n",
    "X_test = load_tensor_from_file(\"../datasets/X_test_stenosis.tf\")\n",
    "y_test = load_tensor_from_file(\"../datasets/y_test_stenosis.tf\")"
   ]
  },
  {
   "cell_type": "code",
   "execution_count": null,
   "metadata": {},
   "outputs": [],
   "source": [
    "plt.figure(figsize=(12, 4))\n",
    "plt.subplot(1, 3, 1)\n",
    "plt.imshow(tf.squeeze(X_train[0]), cmap='gray')\n",
    "plt.xticks([])\n",
    "plt.yticks([])\n",
    "plt.title('Train Image')\n",
    "plt.subplot(1, 3, 2)\n",
    "plt.imshow(tf.squeeze(X_train[1]), cmap='gray')\n",
    "plt.xticks([])\n",
    "plt.yticks([])\n",
    "plt.title('Train Image Enhanced')"
   ]
  },
  {
   "cell_type": "code",
   "execution_count": null,
   "metadata": {},
   "outputs": [],
   "source": [
    "#Build dice loss function\n",
    "def dice_loss(y_true, y_pred):\n",
    "    smooth = 1e-6\n",
    "    y_true_f = tf.reshape(y_true, [-1])\n",
    "    y_pred_f = tf.reshape(y_pred, [-1])\n",
    "    intersection = tf.reduce_sum(y_true_f * y_pred_f)\n",
    "    return 1 - (2. * intersection + smooth) / (tf.reduce_sum(y_true_f) + tf.reduce_sum(y_pred_f) + smooth)\n",
    "\n",
    "def dice_bce_loss(y_true, y_pred):\n",
    "    bce = tf.keras.losses.binary_crossentropy(y_true, y_pred)\n",
    "    dice = dice_loss(y_true, y_pred)\n",
    "    return bce + dice"
   ]
  },
  {
   "cell_type": "code",
   "execution_count": null,
   "metadata": {},
   "outputs": [],
   "source": [
    "# Build Model Architecture\n",
    "def dense_block(x, num_layers, growth_rate, dropout_rate=0.2):\n",
    "    for i in range(num_layers):\n",
    "        # BatchNorm + ReLU + Conv + Dropout\n",
    "        x1 = layers.BatchNormalization()(x)\n",
    "        x1 = layers.Activation('relu')(x1)\n",
    "        x1 = layers.Conv2D(growth_rate, (3, 3), padding='same')(x1)\n",
    "        if dropout_rate > 0:\n",
    "            x1 = layers.Dropout(dropout_rate)(x1)\n",
    "        x = layers.Concatenate()([x, x1])  # Concatenate input and output\n",
    "    return x\n",
    "\n",
    "def transition_down(x, compression_factor, dropout_rate=0.2):\n",
    "    filters = int(x.shape[-1] * compression_factor)\n",
    "    x = layers.BatchNormalization()(x)\n",
    "    x = layers.Activation('relu')(x)\n",
    "    x = layers.Conv2D(filters, (1, 1), padding='same')(x)\n",
    "    if dropout_rate > 0:\n",
    "        x = layers.Dropout(dropout_rate)(x)\n",
    "    x = layers.AveragePooling2D((2, 2), strides=(2, 2))(x)\n",
    "    return x\n",
    "\n",
    "def transition_up(x, skip_connection, filters):\n",
    "    x = layers.Conv2D(filters, (3, 3), padding='same')(x)\n",
    "    x = layers.UpSampling2D((2, 2))(x)\n",
    "    x = layers.Concatenate()([x, skip_connection])  # Concatenate with skip connection\n",
    "    return x\n",
    "\n",
    "def tiramisu(input_shape=(256, 256, 1), num_classes=1, num_blocks=2, initial_features=12, growth_rate=2, compression_factor=0.5, dropout_rate=0.2):\n",
    "    inputs = layers.Input(shape=input_shape)\n",
    "    x = layers.Conv2D(initial_features, (3, 3), padding='same')(inputs)\n",
    "\n",
    "    # Downsampling path\n",
    "    skip_connections = []\n",
    "    for i in range(num_blocks):\n",
    "        x = dense_block(x, num_layers=4, growth_rate=growth_rate, dropout_rate=dropout_rate)\n",
    "        skip_connections.append(x)\n",
    "        x = transition_down(x, compression_factor=compression_factor, dropout_rate=dropout_rate)\n",
    "\n",
    "    # Bottleneck\n",
    "    x = dense_block(x, num_layers=4, growth_rate=growth_rate, dropout_rate=dropout_rate)\n",
    "\n",
    "    # Upsampling path\n",
    "    skip_connections = reversed(skip_connections)\n",
    "    for skip_connection in skip_connections:\n",
    "        x = transition_up(x, skip_connection, filters=x.shape[-1])\n",
    "        x = dense_block(x, num_layers=4, growth_rate=growth_rate, dropout_rate=dropout_rate)\n",
    "\n",
    "    # Classifier\n",
    "    x = layers.Conv2D(num_classes, (1, 1), activation='sigmoid')(x)\n",
    "\n",
    "    model = models.Model(inputs=inputs, outputs=x)\n",
    "    return model\n",
    "\n",
    "#Build Tiramisu model\n",
    "tf.keras.backend.clear_session()\n",
    "model = tiramisu()\n",
    "adam_optimizer = tf.keras.optimizers.Adam(learning_rate=0.001)\n",
    "model.compile(optimizer=adam_optimizer, loss=dice_bce_loss, metrics=[MeanIoU(num_classes=2)])\n",
    "\n",
    "# Model summary\n",
    "model.summary()"
   ]
  },
  {
   "cell_type": "code",
   "execution_count": null,
   "metadata": {},
   "outputs": [],
   "source": [
    "history = model.fit(\n",
    "    x=X_train,\n",
    "    y=tf.cast(y_train == 255, tf.float16),\n",
    "    batch_size=16,\n",
    "    epochs=10,\n",
    "    validation_data=(X_val, tf.cast(y_val == 255, tf.float16))\n",
    ")"
   ]
  },
  {
   "cell_type": "code",
   "execution_count": null,
   "metadata": {},
   "outputs": [],
   "source": [
    "\n",
    "clean_results = pd.DataFrame(history.history).reset_index()\n",
    "clean_results = round(clean_results, 4)\n",
    "clean_results['index'] = (clean_results['index'] + 1)\n",
    "clean_results.columns = ['Epoch', 'Loss', 'Mean IoU', 'Validaiton Loss', 'Validation Mean IoU']\n",
    "plt.figure(figsize=(8,4))\n",
    "plt.axis('off')\n",
    "plt.table(cellText=clean_results.values, colLabels=clean_results.columns, cellLoc='center', loc='center', bbox=[0, 0, 1, 1])"
   ]
  },
  {
   "cell_type": "code",
   "execution_count": null,
   "metadata": {},
   "outputs": [],
   "source": [
    "y_pred = model.predict(X_test)"
   ]
  },
  {
   "cell_type": "code",
   "execution_count": null,
   "metadata": {},
   "outputs": [],
   "source": [
    "predicted_masks = (y_pred > 0.5).astype(np.float16)\n",
    "\n",
    "iou_metric = MeanIoU(num_classes=2)\n",
    "\n",
    "# Update states with the ground truth and predictions\n",
    "iou_metric.update_state(tf.cast(y_test == 255, tf.float16), predicted_masks)\n",
    "\n",
    "# Get the IoU score\n",
    "test_iou = iou_metric.result().numpy()\n",
    "print(f\"Test IoU: {test_iou}\")"
   ]
  },
  {
   "cell_type": "code",
   "execution_count": null,
   "metadata": {},
   "outputs": [],
   "source": [
    "# Example: Visualize the first test image, its true mask, and the predicted mask\n",
    "plt.figure(figsize=(12, 4))\n",
    "plt.subplot(1, 3, 1)\n",
    "plt.imshow(tf.squeeze(X_test[0]), cmap='gray')\n",
    "plt.xticks([])\n",
    "plt.yticks([])\n",
    "plt.title('Test Image')\n",
    "plt.subplot(1, 3, 2)\n",
    "plt.imshow(tf.squeeze(y_test[0]), cmap='gray')\n",
    "plt.xticks([])\n",
    "plt.yticks([])\n",
    "plt.title('True Mask')\n",
    "plt.subplot(1, 3, 3)\n",
    "plt.imshow(tf.squeeze(predicted_masks[0]), cmap='gray')\n",
    "plt.xticks([])\n",
    "plt.yticks([])\n",
    "plt.title('Predicted Mask')\n",
    "plt.show()\n"
   ]
  },
  {
   "cell_type": "code",
   "execution_count": null,
   "metadata": {},
   "outputs": [],
   "source": []
  }
 ],
 "metadata": {
  "kernelspec": {
   "display_name": "angiographer",
   "language": "python",
   "name": "python3"
  },
  "language_info": {
   "codemirror_mode": {
    "name": "ipython",
    "version": 3
   },
   "file_extension": ".py",
   "mimetype": "text/x-python",
   "name": "python",
   "nbconvert_exporter": "python",
   "pygments_lexer": "ipython3",
   "version": "3.11.1"
  }
 },
 "nbformat": 4,
 "nbformat_minor": 2
}
